{
 "cells": [
  {
   "cell_type": "markdown",
   "metadata": {},
   "source": [
    "ESC 后 H键显示快捷键帮助 "
   ]
  },
  {
   "cell_type": "markdown",
   "metadata": {},
   "source": [
    "# K-临近算法 "
   ]
  },
  {
   "cell_type": "markdown",
   "metadata": {},
   "source": [
    "使用Python导入数据"
   ]
  },
  {
   "cell_type": "code",
   "execution_count": 21,
   "metadata": {
    "collapsed": true
   },
   "outputs": [],
   "source": [
    "from numpy import *\n",
    "import operator"
   ]
  },
  {
   "cell_type": "markdown",
   "metadata": {},
   "source": [
    "- 第一个是科学计算包Numpy\n",
    "- 第二个是运算符模块"
   ]
  },
  {
   "cell_type": "code",
   "execution_count": 22,
   "metadata": {
    "collapsed": true
   },
   "outputs": [],
   "source": [
    "def createDataSet():\n",
    "    group = array ([[1.0,1.1],[1.0,1.0],[0,0],[0,0.1]])\n",
    "    labels = ['A','A','B','B']\n",
    "    return group, labels"
   ]
  },
  {
   "cell_type": "markdown",
   "metadata": {},
   "source": [
    "将上头编码打包成为kNN.py文件"
   ]
  },
  {
   "cell_type": "code",
   "execution_count": 23,
   "metadata": {
    "collapsed": true
   },
   "outputs": [],
   "source": [
    "import kNN"
   ]
  },
  {
   "cell_type": "code",
   "execution_count": 24,
   "metadata": {
    "collapsed": true
   },
   "outputs": [],
   "source": [
    "group, labels = kNN.createDataSet()"
   ]
  },
  {
   "cell_type": "code",
   "execution_count": 25,
   "metadata": {
    "collapsed": false
   },
   "outputs": [
    {
     "data": {
      "text/plain": [
       "array([[ 1. ,  1.1],\n",
       "       [ 1. ,  1. ],\n",
       "       [ 0. ,  0. ],\n",
       "       [ 0. ,  0.1]])"
      ]
     },
     "execution_count": 25,
     "metadata": {},
     "output_type": "execute_result"
    }
   ],
   "source": [
    "group"
   ]
  },
  {
   "cell_type": "code",
   "execution_count": 26,
   "metadata": {
    "collapsed": false
   },
   "outputs": [
    {
     "data": {
      "text/plain": [
       "['A', 'A', 'B', 'B']"
      ]
     },
     "execution_count": 26,
     "metadata": {},
     "output_type": "execute_result"
    }
   ],
   "source": [
    "labels"
   ]
  },
  {
   "cell_type": "markdown",
   "metadata": {},
   "source": [
    "## 了解kNN分类算法\n"
   ]
  },
  {
   "cell_type": "markdown",
   "metadata": {},
   "source": [
    "__伪代码__为：对未知类别属性的数据集中的每个点依次执行以下操作\n",
    "\n",
    "1. 计算已知类别数据集中的点与当前点之间的距离\n",
    "    \n",
    "2. 按照距离递增次序排序\n",
    "    \n",
    "3. 选取与当前点距离最小的k个点\n",
    "    \n",
    "4. 确定前k个点所在类别出现频率\n",
    "     \n",
    "5. 范围前k个点出现频率最高的类别作为当前点的预测分类\n",
    "    "
   ]
  },
  {
   "cell_type": "code",
   "execution_count": 27,
   "metadata": {
    "collapsed": true
   },
   "outputs": [],
   "source": [
    "def classify0(inX, dataSet, labels, k):\n",
    "    dataSetSize = dataSet.shape[0]\n",
    "    diffMat = tile(inX, (dataSetSize,1)) - dataSet\n",
    "    sqDiffMat = diffMat**2\n",
    "    sqDistances = sqDiffMat.sum(axis=1)\n",
    "    distances = sqDistances**2\n",
    "    sortedDistIndicies = distances.argsort()\n",
    "    classCount={}\n",
    "    for i in range(k):\n",
    "        voteIlabel = labels[sortedDistIndicies[i]]\n",
    "        classCount[voteIlabel] = classCount.get(voteIlabel,0) + 1\n",
    "    sortedClassCount = sorted(classCount.items(), key=operator.itemgetter(1), reverse=True)# 源代码中iteritems修改为items \n",
    "    return sortedClassCount[0][0]\n",
    "    "
   ]
  },
  {
   "cell_type": "markdown",
   "metadata": {},
   "source": [
    "四个参数分别为 ： 用于分类的输入向量为$inX$, 输入的训练样本集为dataSet，标签向量为labels。最后的参数k表示用于选择最近邻居的数目。其中标签向量的元素数目与矩阵dataSet的行数相同 \n",
    "\n",
    "计算距离使用欧氏距离 两个向量点$xA$和$xB$的距离为：\n",
    "    $$\n",
    "    d=\\sqrt{(xA_0 - xB_0)^2 + (xA_1 - xB_1)^2}\n",
    "    $$\n",
    "    \n",
    " 计算完所有点的距离后，对数据按照从小到大的次序排序，确定前k个距离最小元素所在的为主要分类，$k$总为正整数。 最后返回发生频率最高的元素标签。"
   ]
  },
  {
   "cell_type": "markdown",
   "metadata": {},
   "source": [
    "构造的函数classify0也被导入进kNN。"
   ]
  },
  {
   "cell_type": "code",
   "execution_count": 28,
   "metadata": {
    "collapsed": false
   },
   "outputs": [
    {
     "data": {
      "text/plain": [
       "'B'"
      ]
     },
     "execution_count": 28,
     "metadata": {},
     "output_type": "execute_result"
    }
   ],
   "source": [
    "kNN.classify0([0,0], group, labels, 3)"
   ]
  },
  {
   "cell_type": "markdown",
   "metadata": {
    "collapsed": true
   },
   "source": [
    "2017.3.11"
   ]
  },
  {
   "cell_type": "markdown",
   "metadata": {},
   "source": [
    "#### 将文本记录转换为Numpy的解析程序"
   ]
  },
  {
   "cell_type": "code",
   "execution_count": 29,
   "metadata": {
    "collapsed": true
   },
   "outputs": [],
   "source": [
    "def file2matrix(filename):\n",
    "    fr = open(filename)\n",
    "    arrayOLines =fr.readlines()\n",
    "    numberOfLines = len(arrayOLines)     # get the number of lines return\n",
    "    returnMat = zeros((numberOfLines, 3))# prepare matrix to return\n",
    "    classLabelVector = []                # prepare label return\n",
    "    index = 0\n",
    "    for line in arrayOLines:\n",
    "        line = line.strip()\n",
    "        listFromLine = line.split('\\t')\n",
    "        returnMat[index,:] = listFromLine[0:3]\n",
    "        classLabelVector.append(int(listFromLine[-1]))\n",
    "        index += 1\n",
    "    return returnMat,classLabelVector"
   ]
  },
  {
   "cell_type": "code",
   "execution_count": 30,
   "metadata": {
    "collapsed": false
   },
   "outputs": [],
   "source": [
    "datingDataMat,datingLabels = kNN.file2matrix('G:\\\\桌面\\\\jupyter notebook\\\\datingTestset2.txt')"
   ]
  },
  {
   "cell_type": "code",
   "execution_count": 31,
   "metadata": {
    "collapsed": false
   },
   "outputs": [
    {
     "data": {
      "text/plain": [
       "(array([[  4.09200000e+04,   8.32697600e+00,   9.53952000e-01],\n",
       "        [  1.44880000e+04,   7.15346900e+00,   1.67390400e+00],\n",
       "        [  2.60520000e+04,   1.44187100e+00,   8.05124000e-01],\n",
       "        ..., \n",
       "        [  2.65750000e+04,   1.06501020e+01,   8.66627000e-01],\n",
       "        [  4.81110000e+04,   9.13452800e+00,   7.28045000e-01],\n",
       "        [  4.37570000e+04,   7.88260100e+00,   1.33244600e+00]]),\n",
       " [3, 2, 1, 1, 1, 1, 3, 3, 1, 3, 1, 1, 2, 1, 1, 1, 1, 1, 2, 3])"
      ]
     },
     "execution_count": 31,
     "metadata": {},
     "output_type": "execute_result"
    }
   ],
   "source": [
    "datingDataMat,datingLabels[0:20]"
   ]
  },
  {
   "cell_type": "markdown",
   "metadata": {},
   "source": [
    "使用Matplotlib创建散点图\n",
    "\n"
   ]
  },
  {
   "cell_type": "code",
   "execution_count": 32,
   "metadata": {
    "collapsed": false,
    "scrolled": true
   },
   "outputs": [
    {
     "data": {
      "image/png": "[encoded data removed]",
      "text/plain": [
       "<matplotlib.figure.Figure at 0x20901f2ebe0>"
      ]
     },
     "metadata": {},
     "output_type": "display_data"
    }
   ],
   "source": [
    "import matplotlib\n",
    "import matplotlib.pyplot as plt\n",
    "fig = plt.figure()\n",
    "ax = fig.add_subplot(111)\n",
    "ax .scatter(datingDataMat[:,0], datingDataMat[:,1],15*array(datingLabels),15*array(datingLabels))#调用scatter函数的参数，增加了颜色和大小；第一个是大小，第二个是颜色。方便区分\n",
    "plt.show()"
   ]
  },
  {
   "cell_type": "markdown",
   "metadata": {},
   "source": [
    "http://img.blog.csdn.net/20151104231449817?watermark/2/text/aHR0cDovL2Jsb2cuY3Nkbi5uZXQv/font/5a6L5L2T/fontsize/400/fill/I0JBQkFCMA==/dissolve/70/gravity/Center\n",
    "scatter函数的参数设定"
   ]
  },
  {
   "cell_type": "markdown",
   "metadata": {},
   "source": [
    "## 归一化准备\n",
    "计算距离时，若无归一化，则如下式\n",
    "$$\n",
    "\\sqrt{(0-67)^2+(20000-32000)^2+(1.1-0.1)^2}\n",
    "$$\n",
    "由数据可以看出，数据差值最大的属性对计算计算结果影响最大。这说明需要将数据归一化，以消除因为数据本身属性所带来的影响。\n",
    "将所有数据的取值范围放置于0-1或-1到1的区间内：\n",
    "\n",
    "---\n",
    "归一化的公式为\n",
    "$$\n",
    "newValue = \\frac{(oldValue-min)}{(max-min)}\n",
    "$$\n",
    "在kNN中增加一个新函数autoNorm(),该函数可以自动将数字特征值转化为0到1的区间。"
   ]
  },
  {
   "cell_type": "code",
   "execution_count": 33,
   "metadata": {
    "collapsed": true
   },
   "outputs": [],
   "source": [
    "def autoNorm(dataSet):\n",
    "    minVals = dataSet.min(0)\n",
    "    maxVals = dataSet.max(0)\n",
    "    ranges = maxVals -minVals\n",
    "    normDataSet = zeros(shape(dataSet))\n",
    "    m = dataSet.shape[0]\n",
    "    normDataSet = dataSet - tile(minVals, (m,1))# 利用NumPy库中的tile()将变量内容复制成输入矩阵同样大小的矩阵\n",
    "    normDataSet = normDataSet/tile(ranges, (m,1))# 此处为具体特征值相除。\n",
    "    return normDataSet, ranges, minVals"
   ]
  },
  {
   "cell_type": "code",
   "execution_count": 34,
   "metadata": {
    "collapsed": false
   },
   "outputs": [],
   "source": [
    "normMat, ranges, minVals = kNN.autoNorm(datingDataMat)"
   ]
  },
  {
   "cell_type": "code",
   "execution_count": 35,
   "metadata": {
    "collapsed": false
   },
   "outputs": [
    {
     "data": {
      "text/plain": [
       "array([[ 0.44832535,  0.39805139,  0.56233353],\n",
       "       [ 0.15873259,  0.34195467,  0.98724416],\n",
       "       [ 0.28542943,  0.06892523,  0.47449629],\n",
       "       ..., \n",
       "       [ 0.29115949,  0.50910294,  0.51079493],\n",
       "       [ 0.52711097,  0.43665451,  0.4290048 ],\n",
       "       [ 0.47940793,  0.3768091 ,  0.78571804]])"
      ]
     },
     "execution_count": 35,
     "metadata": {},
     "output_type": "execute_result"
    }
   ],
   "source": [
    "normMat\n"
   ]
  },
  {
   "cell_type": "code",
   "execution_count": 36,
   "metadata": {
    "collapsed": false
   },
   "outputs": [
    {
     "data": {
      "text/plain": [
       "array([  9.12730000e+04,   2.09193490e+01,   1.69436100e+00])"
      ]
     },
     "execution_count": 36,
     "metadata": {},
     "output_type": "execute_result"
    }
   ],
   "source": [
    "ranges"
   ]
  },
  {
   "cell_type": "code",
   "execution_count": 37,
   "metadata": {
    "collapsed": false
   },
   "outputs": [
    {
     "data": {
      "text/plain": [
       "array([ 0.      ,  0.      ,  0.001156])"
      ]
     },
     "execution_count": 37,
     "metadata": {},
     "output_type": "execute_result"
    }
   ],
   "source": [
    "minVals"
   ]
  },
  {
   "cell_type": "markdown",
   "metadata": {},
   "source": [
    "#### 算法测试：完整测试程序验证分类器\n",
    "只提供已有数据的百分之90作为训练样本训练分类器。而用其中百分之10来测试我们的分类器\n",
    "在kNN.py中创建datingClassTest来测试分类器效果。"
   ]
  },
  {
   "cell_type": "code",
   "execution_count": 38,
   "metadata": {
    "collapsed": false
   },
   "outputs": [],
   "source": [
    "def datingClassTest():\n",
    "    hoRatio = 0.10\n",
    "    datingDataMat, datingLabels = file2matrix('datingTestSet2.txt')# 勘误 这里要使用datingTestSet2.txt 要不然会报错。\n",
    "    normMat, ranges, minVals = autoNorm(datingDataMat)\n",
    "    m = normMat.shape[0]#shape函数可以导出矩阵的形状[0]为行数[1]为列数\n",
    "    numTestVecs = int(m*hoRatio)\n",
    "    errorCount = 0.0\n",
    "    for i in range(numTestVecs):\n",
    "        classifierResult = classify0(normMat[i,:],normMat[numTestVecs:m,:],datingLabels[numTestVecs:m],5)\n",
    "        print (\"the classifier came back with: %d,the real answer is: %d\" % (classifierResult, datingLabels[i]))\n",
    "        if (classifierResult != datingLabels[i]): errorCount += 1.0\n",
    "    print(\"the total error rate is: %f\" % (errorCount/float(numTestVecs)))\n",
    "    "
   ]
  },
  {
   "cell_type": "code",
   "execution_count": 39,
   "metadata": {
    "collapsed": false
   },
   "outputs": [
    {
     "name": "stdout",
     "output_type": "stream",
     "text": [
      "the classifier came back with: 3,the real answer is: 3\n",
      "the classifier came back with: 2,the real answer is: 2\n",
      "the classifier came back with: 1,the real answer is: 1\n",
      "the classifier came back with: 1,the real answer is: 1\n",
      "the classifier came back with: 1,the real answer is: 1\n",
      "the classifier came back with: 1,the real answer is: 1\n",
      "the classifier came back with: 3,the real answer is: 3\n",
      "the classifier came back with: 3,the real answer is: 3\n",
      "the classifier came back with: 1,the real answer is: 1\n",
      "the classifier came back with: 3,the real answer is: 3\n",
      "the classifier came back with: 1,the real answer is: 1\n",
      "the classifier came back with: 1,the real answer is: 1\n",
      "the classifier came back with: 2,the real answer is: 2\n",
      "the classifier came back with: 1,the real answer is: 1\n",
      "the classifier came back with: 1,the real answer is: 1\n",
      "the classifier came back with: 1,the real answer is: 1\n",
      "the classifier came back with: 1,the real answer is: 1\n",
      "the classifier came back with: 1,the real answer is: 1\n",
      "the classifier came back with: 2,the real answer is: 2\n",
      "the classifier came back with: 3,the real answer is: 3\n",
      "the classifier came back with: 2,the real answer is: 2\n",
      "the classifier came back with: 1,the real answer is: 1\n",
      "the classifier came back with: 3,the real answer is: 2\n",
      "the classifier came back with: 3,the real answer is: 3\n",
      "the classifier came back with: 2,the real answer is: 2\n",
      "the classifier came back with: 3,the real answer is: 3\n",
      "the classifier came back with: 2,the real answer is: 2\n",
      "the classifier came back with: 3,the real answer is: 3\n",
      "the classifier came back with: 2,the real answer is: 2\n",
      "the classifier came back with: 1,the real answer is: 1\n",
      "the classifier came back with: 3,the real answer is: 3\n",
      "the classifier came back with: 1,the real answer is: 1\n",
      "the classifier came back with: 2,the real answer is: 3\n",
      "the classifier came back with: 1,the real answer is: 1\n",
      "the classifier came back with: 2,the real answer is: 2\n",
      "the classifier came back with: 1,the real answer is: 1\n",
      "the classifier came back with: 1,the real answer is: 1\n",
      "the classifier came back with: 2,the real answer is: 2\n",
      "the classifier came back with: 3,the real answer is: 3\n",
      "the classifier came back with: 3,the real answer is: 3\n",
      "the classifier came back with: 1,the real answer is: 1\n",
      "the classifier came back with: 2,the real answer is: 2\n",
      "the classifier came back with: 3,the real answer is: 3\n",
      "the classifier came back with: 3,the real answer is: 3\n",
      "the classifier came back with: 3,the real answer is: 3\n",
      "the classifier came back with: 1,the real answer is: 1\n",
      "the classifier came back with: 1,the real answer is: 1\n",
      "the classifier came back with: 1,the real answer is: 1\n",
      "the classifier came back with: 1,the real answer is: 1\n",
      "the classifier came back with: 2,the real answer is: 2\n",
      "the classifier came back with: 2,the real answer is: 2\n",
      "the classifier came back with: 1,the real answer is: 1\n",
      "the classifier came back with: 3,the real answer is: 3\n",
      "the classifier came back with: 2,the real answer is: 2\n",
      "the classifier came back with: 2,the real answer is: 2\n",
      "the classifier came back with: 2,the real answer is: 2\n",
      "the classifier came back with: 2,the real answer is: 2\n",
      "the classifier came back with: 3,the real answer is: 3\n",
      "the classifier came back with: 1,the real answer is: 1\n",
      "the classifier came back with: 2,the real answer is: 2\n",
      "the classifier came back with: 1,the real answer is: 1\n",
      "the classifier came back with: 2,the real answer is: 2\n",
      "the classifier came back with: 2,the real answer is: 2\n",
      "the classifier came back with: 2,the real answer is: 2\n",
      "the classifier came back with: 2,the real answer is: 2\n",
      "the classifier came back with: 2,the real answer is: 2\n",
      "the classifier came back with: 3,the real answer is: 3\n",
      "the classifier came back with: 2,the real answer is: 2\n",
      "the classifier came back with: 3,the real answer is: 3\n",
      "the classifier came back with: 1,the real answer is: 1\n",
      "the classifier came back with: 2,the real answer is: 2\n",
      "the classifier came back with: 3,the real answer is: 3\n",
      "the classifier came back with: 2,the real answer is: 2\n",
      "the classifier came back with: 2,the real answer is: 2\n",
      "the classifier came back with: 3,the real answer is: 1\n",
      "the classifier came back with: 3,the real answer is: 3\n",
      "the classifier came back with: 1,the real answer is: 1\n",
      "the classifier came back with: 1,the real answer is: 1\n",
      "the classifier came back with: 3,the real answer is: 3\n",
      "the classifier came back with: 3,the real answer is: 3\n",
      "the classifier came back with: 1,the real answer is: 1\n",
      "the classifier came back with: 2,the real answer is: 2\n",
      "the classifier came back with: 3,the real answer is: 3\n",
      "the classifier came back with: 1,the real answer is: 1\n",
      "the classifier came back with: 3,the real answer is: 3\n",
      "the classifier came back with: 1,the real answer is: 1\n",
      "the classifier came back with: 2,the real answer is: 2\n",
      "the classifier came back with: 2,the real answer is: 2\n",
      "the classifier came back with: 1,the real answer is: 1\n",
      "the classifier came back with: 1,the real answer is: 1\n",
      "the classifier came back with: 3,the real answer is: 3\n",
      "the classifier came back with: 2,the real answer is: 3\n",
      "the classifier came back with: 1,the real answer is: 1\n",
      "the classifier came back with: 2,the real answer is: 2\n",
      "the classifier came back with: 1,the real answer is: 1\n",
      "the classifier came back with: 3,the real answer is: 3\n",
      "the classifier came back with: 3,the real answer is: 3\n",
      "the classifier came back with: 2,the real answer is: 2\n",
      "the classifier came back with: 2,the real answer is: 1\n",
      "the classifier came back with: 1,the real answer is: 1\n",
      "the total error rate is: 0.050000\n"
     ]
    }
   ],
   "source": [
    "kNN.datingClassTest()\n"
   ]
  },
  {
   "cell_type": "markdown",
   "metadata": {},
   "source": [
    "可以通过改变k和内置的hoRatio值来检测测试结果，找出对该数据最优的参数。"
   ]
  },
  {
   "cell_type": "markdown",
   "metadata": {
    "collapsed": true
   },
   "source": [
    "## 构建完整可用系统\n",
    "\n",
    "通过海伦输入的他的信息。程序会给她对对方喜欢程度的预测值。\n",
    "    def classifyPerson():\n",
    "    "
   ]
  },
  {
   "cell_type": "code",
   "execution_count": 40,
   "metadata": {
    "collapsed": false
   },
   "outputs": [],
   "source": [
    "def classifyPerson():\n",
    "    resultList = ['not at all', 'in small doses', 'in large doses']\n",
    "    percentTats = float(input(\"percentage of time spent playing video games?\"))#python3 将raw_input 变成了input\n",
    "    ffMiles = float(input(\"frequent flier miles earned per years?\"))\n",
    "    iceCream = float(input(\"liters of ice cream consumed per year?\"))\n",
    "    datingDataMat, datingLabels = file2matrix('datingTestSet2.txt')\n",
    "    normMat, ranges, minVals = autoNorm(datingDataMat)\n",
    "    inArr = array([ffMiles, percentTats, iceCream])\n",
    "    classifierResult = classify0((inArr-minVals)/ranges, normMat, datingLabels, 3)\n",
    "    print(\"you will probably like this person:\", resultList[classifierResult - 1])\n"
   ]
  },
  {
   "cell_type": "markdown",
   "metadata": {
    "collapsed": false
   },
   "source": [
    "#### kNN.classifyPerson()"
   ]
  },
  {
   "cell_type": "markdown",
   "metadata": {
    "collapsed": true
   },
   "source": [
    "# 应用：手写识别系统"
   ]
  },
  {
   "cell_type": "markdown",
   "metadata": {},
   "source": [
    "### 1.将图像转化为测试向量"
   ]
  },
  {
   "cell_type": "markdown",
   "metadata": {},
   "source": [
    "我们要把一个$32\\times 32$的矩阵转化为一个$1\\times1024$的向量。这样就可以使用K阶临近分类器来处理数字图像。\n",
    "\n",
    "首先编写一段img2vector 将图像转化为向量\n",
    "\n",
    "\n",
    "该函数会创建一个$1\\times1024$的NumPy数组，然后打开指定的文件，循环读出文件的32行，并将其值存储于Numpy数组内。最后返回数组"
   ]
  },
  {
   "cell_type": "code",
   "execution_count": 41,
   "metadata": {
    "collapsed": true
   },
   "outputs": [],
   "source": [
    "def img2vector(filename):\n",
    "    returnVect = zeros((1,1024))\n",
    "    fr = open(filename)\n",
    "    for i in range(32):\n",
    "        lineStr = fr.readline()\n",
    "        for j in range(32):\n",
    "            returnVect[0,32*i+j] = int(lineStr[j])\n",
    "        return returnVect\n",
    "        "
   ]
  },
  {
   "cell_type": "code",
   "execution_count": 42,
   "metadata": {
    "collapsed": false,
    "scrolled": true
   },
   "outputs": [
    {
     "ename": "FileNotFoundError",
     "evalue": "[Errno 2] No such file or directory: 'digits/testDigits/0_13.txt'",
     "output_type": "error",
     "traceback": [
      "\u001b[0;31m---------------------------------------------------------------------------\u001b[0m",
      "\u001b[0;31mFileNotFoundError\u001b[0m                         Traceback (most recent call last)",
      "\u001b[0;32m<ipython-input-42-0d4dfb4b1847>\u001b[0m in \u001b[0;36m<module>\u001b[0;34m()\u001b[0m\n\u001b[0;32m----> 1\u001b[0;31m \u001b[0mtestVector\u001b[0m \u001b[1;33m=\u001b[0m \u001b[0mkNN\u001b[0m\u001b[1;33m.\u001b[0m\u001b[0mimg2vector\u001b[0m\u001b[1;33m(\u001b[0m\u001b[1;34m'digits/testDigits/0_13.txt'\u001b[0m\u001b[1;33m)\u001b[0m\u001b[1;33m\u001b[0m\u001b[0m\n\u001b[0m\u001b[1;32m      2\u001b[0m \u001b[0mtestVector\u001b[0m\u001b[1;33m[\u001b[0m\u001b[1;36m0\u001b[0m\u001b[1;33m,\u001b[0m\u001b[1;36m0\u001b[0m\u001b[1;33m:\u001b[0m\u001b[1;36m31\u001b[0m\u001b[1;33m]\u001b[0m\u001b[1;33m\u001b[0m\u001b[0m\n",
      "\u001b[0;32mG:\\桌面\\jupyter notebook\\personal-machine-learning-\\kNN.py\u001b[0m in \u001b[0;36mimg2vector\u001b[0;34m(filename)\u001b[0m\n\u001b[1;32m     71\u001b[0m \u001b[1;32mdef\u001b[0m \u001b[0mimg2vector\u001b[0m\u001b[1;33m(\u001b[0m\u001b[0mfilename\u001b[0m\u001b[1;33m)\u001b[0m\u001b[1;33m:\u001b[0m\u001b[1;33m\u001b[0m\u001b[0m\n\u001b[1;32m     72\u001b[0m     \u001b[0mreturnVect\u001b[0m \u001b[1;33m=\u001b[0m \u001b[0mzeros\u001b[0m\u001b[1;33m(\u001b[0m\u001b[1;33m(\u001b[0m\u001b[1;36m1\u001b[0m\u001b[1;33m,\u001b[0m\u001b[1;36m1024\u001b[0m\u001b[1;33m)\u001b[0m\u001b[1;33m)\u001b[0m\u001b[1;33m\u001b[0m\u001b[0m\n\u001b[0;32m---> 73\u001b[0;31m     \u001b[0mfr\u001b[0m \u001b[1;33m=\u001b[0m \u001b[0mopen\u001b[0m\u001b[1;33m(\u001b[0m\u001b[0mfilename\u001b[0m\u001b[1;33m)\u001b[0m\u001b[1;33m\u001b[0m\u001b[0m\n\u001b[0m\u001b[1;32m     74\u001b[0m     \u001b[1;32mfor\u001b[0m \u001b[0mi\u001b[0m \u001b[1;32min\u001b[0m \u001b[0mrange\u001b[0m\u001b[1;33m(\u001b[0m\u001b[1;36m32\u001b[0m\u001b[1;33m)\u001b[0m\u001b[1;33m:\u001b[0m\u001b[1;33m\u001b[0m\u001b[0m\n\u001b[1;32m     75\u001b[0m         \u001b[0mlineStr\u001b[0m \u001b[1;33m=\u001b[0m \u001b[0mfr\u001b[0m\u001b[1;33m.\u001b[0m\u001b[0mreadline\u001b[0m\u001b[1;33m(\u001b[0m\u001b[1;33m)\u001b[0m\u001b[1;33m\u001b[0m\u001b[0m\n",
      "\u001b[0;31mFileNotFoundError\u001b[0m: [Errno 2] No such file or directory: 'digits/testDigits/0_13.txt'"
     ]
    }
   ],
   "source": [
    "testVector = kNN.img2vector('digits/testDigits/0_13.txt')\n",
    "testVector[0,0:31]\n"
   ]
  },
  {
   "cell_type": "markdown",
   "metadata": {},
   "source": [
    "### 使用K临近算法进行手写识别"
   ]
  },
  {
   "cell_type": "code",
   "execution_count": null,
   "metadata": {
    "collapsed": true
   },
   "outputs": [],
   "source": [
    "def handwritingClassTest():\n",
    "    hwLabes = []\n",
    "    trainingMat = listdir('trainingDigits')"
   ]
  }
 ],
 "metadata": {
  "kernelspec": {
   "display_name": "Python 3",
   "language": "python",
   "name": "python3"
  },
  "language_info": {
   "codemirror_mode": {
    "name": "ipython",
    "version": 3
   },
   "file_extension": ".py",
   "mimetype": "text/x-python",
   "name": "python",
   "nbconvert_exporter": "python",
   "pygments_lexer": "ipython3",
   "version": "3.6.0"
  }
 },
 "nbformat": 4,
 "nbformat_minor": 2
}
